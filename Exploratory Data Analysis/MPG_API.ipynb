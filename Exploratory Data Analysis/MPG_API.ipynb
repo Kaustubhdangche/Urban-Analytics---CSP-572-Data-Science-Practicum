{
 "cells": [
  {
   "cell_type": "code",
   "execution_count": 1,
   "metadata": {},
   "outputs": [],
   "source": [
    "import pandas as pd\n",
    "import requests"
   ]
  },
  {
   "cell_type": "code",
   "execution_count": 8,
   "metadata": {},
   "outputs": [],
   "source": [
    "# Load car model dataset from CSV file\n",
    "input_csv = \"C:/Users/kaur6/Downloads/Urban Analytics/Odometer Data/illinois_2023/decoded_vins_results.csv\"  # Replace with your CSV file path\n",
    "output_csv = \"C:/Users/kaur6/Downloads/Urban Analytics/Odometer Data/illinois_2023/vin_to_mpg_latest.csv\"  # Output file where you will save the results\n",
    "\n",
    "# Read the CSV file into a DataFrame\n",
    "df = pd.read_csv(input_csv)"
   ]
  },
  {
   "cell_type": "code",
   "execution_count": 9,
   "metadata": {},
   "outputs": [],
   "source": [
    "models = df['Model'].tolist()  # Assuming the column with model names is 'Model'\n",
    "vins = df['VIN'].tolist()  # Assuming the column with VINs is 'VIN'\n",
    "\n",
    "# List to store the results\n",
    "results = []"
   ]
  },
  {
   "cell_type": "code",
   "execution_count": 10,
   "metadata": {},
   "outputs": [
    {
     "name": "stdout",
     "output_type": "stream",
     "text": [
      "Results saved to C:/Users/kaur6/Downloads/Urban Analytics/Odometer Data/illinois_2023/vin_to_mpg_latest.csv\n"
     ]
    }
   ],
   "source": [
    "# Loop through each model and make the API request\n",
    "for model, vin in zip(models, vins):\n",
    "    api_url = 'https://api.api-ninjas.com/v1/cars?model={}'.format(model)\n",
    "    response = requests.get(api_url, headers={'X-Api-Key': 'Your API Key'})\n",
    "\n",
    "    if response.status_code == requests.codes.ok:\n",
    "        car_data = response.json()\n",
    "        # Extract the 'combination_mpg' value for each car model\n",
    "        if car_data:\n",
    "            combination_mpg = car_data[0].get('combination_mpg', 'Combination MPG not available')\n",
    "        else:\n",
    "            combination_mpg = 'No data found'\n",
    "    else:\n",
    "        combination_mpg = f\"Error {response.status_code}\"\n",
    "\n",
    "    # Append the VIN and result to the list\n",
    "    results.append({'VIN': vin, 'model': model, 'combination_mpg': combination_mpg})\n",
    "\n",
    "# Create a DataFrame from the results\n",
    "results_df = pd.DataFrame(results)\n",
    "\n",
    "# Save the results to a new CSV file\n",
    "results_df.to_csv(output_csv, index=False)\n",
    "\n",
    "print(f\"Results saved to {output_csv}\")"
   ]
  },
  {
   "cell_type": "code",
   "execution_count": 5,
   "metadata": {},
   "outputs": [],
   "source": [
    "# Loop through each model and make the API request\n",
    "for model in models:\n",
    "    api_url = 'https://api.api-ninjas.com/v1/cars?model={}'.format(model)\n",
    "    response = requests.get(api_url, headers={'X-Api-Key': '1/aY3pF/oRUYY//kBd2WFw==mXNkrfZSlrNf9pQL'})\n",
    "\n",
    "    if response.status_code == requests.codes.ok:\n",
    "        car_data = response.json()\n",
    "        # Extract the 'combination_mpg' value for each car model\n",
    "        if car_data:\n",
    "            combination_mpg = car_data[0].get('combination_mpg', 'Combination MPG not available')\n",
    "        else:\n",
    "            combination_mpg = 'No data found'\n",
    "    else:\n",
    "        combination_mpg = f\"Error {response.status_code}\"\n",
    "\n",
    "    # Append the result to the list\n",
    "    results.append({'model': model, 'combination_mpg': combination_mpg})\n"
   ]
  },
  {
   "cell_type": "code",
   "execution_count": 6,
   "metadata": {},
   "outputs": [
    {
     "data": {
      "text/html": [
       "<div>\n",
       "<style scoped>\n",
       "    .dataframe tbody tr th:only-of-type {\n",
       "        vertical-align: middle;\n",
       "    }\n",
       "\n",
       "    .dataframe tbody tr th {\n",
       "        vertical-align: top;\n",
       "    }\n",
       "\n",
       "    .dataframe thead th {\n",
       "        text-align: right;\n",
       "    }\n",
       "</style>\n",
       "<table border=\"1\" class=\"dataframe\">\n",
       "  <thead>\n",
       "    <tr style=\"text-align: right;\">\n",
       "      <th></th>\n",
       "      <th>model</th>\n",
       "      <th>combination_mpg</th>\n",
       "    </tr>\n",
       "  </thead>\n",
       "  <tbody>\n",
       "    <tr>\n",
       "      <th>0</th>\n",
       "      <td>TL</td>\n",
       "      <td>23</td>\n",
       "    </tr>\n",
       "    <tr>\n",
       "      <th>1</th>\n",
       "      <td>TLX</td>\n",
       "      <td>28</td>\n",
       "    </tr>\n",
       "    <tr>\n",
       "      <th>2</th>\n",
       "      <td>TLX</td>\n",
       "      <td>28</td>\n",
       "    </tr>\n",
       "    <tr>\n",
       "      <th>3</th>\n",
       "      <td>Civic</td>\n",
       "      <td>28</td>\n",
       "    </tr>\n",
       "    <tr>\n",
       "      <th>4</th>\n",
       "      <td>Civic</td>\n",
       "      <td>28</td>\n",
       "    </tr>\n",
       "  </tbody>\n",
       "</table>\n",
       "</div>"
      ],
      "text/plain": [
       "   model combination_mpg\n",
       "0     TL              23\n",
       "1    TLX              28\n",
       "2    TLX              28\n",
       "3  Civic              28\n",
       "4  Civic              28"
      ]
     },
     "execution_count": 6,
     "metadata": {},
     "output_type": "execute_result"
    }
   ],
   "source": [
    "# Create a DataFrame from the results\n",
    "results_df = pd.DataFrame(results)\n",
    "\n",
    "results_df.head()"
   ]
  },
  {
   "cell_type": "code",
   "execution_count": 7,
   "metadata": {},
   "outputs": [
    {
     "name": "stdout",
     "output_type": "stream",
     "text": [
      "Results saved to C:/Users/kaur6/Downloads/Urban Analytics/Odometer Data/illinois_2023/vin_to_mpg_latest.csv\n"
     ]
    }
   ],
   "source": [
    "# Save the results to a new CSV file\n",
    "results_df.to_csv(output_csv, index=False)\n",
    "\n",
    "print(f\"Results saved to {output_csv}\")"
   ]
  },
  {
   "cell_type": "code",
   "execution_count": null,
   "metadata": {},
   "outputs": [],
   "source": [
    "import requests\n",
    "\n",
    "# Take model input from the user\n",
    "model_input = input(\"Enter the model you want to query: \")\n",
    "\n",
    "# Set the API URL with the model input\n",
    "api_url = f'https://api.api-ninjas.com/v1/cars?model={model_input}'\n",
    "\n",
    "# Send the API request\n",
    "response = requests.get(api_url, headers={'X-Api-Key': '1/aY3pF/oRUYY//kBd2WFw==mXNkrfZSlrNf9pQL'})\n",
    "\n",
    "# Initialize the results list\n",
    "results = []\n",
    "\n",
    "if response.status_code == requests.codes.ok:\n",
    "    car_data = response.json()\n",
    "    # Extract the 'combination_mpg' value for the car model\n",
    "    if car_data:\n",
    "        combination_mpg = car_data[0].get('combination_mpg', 'Combination MPG not available')\n",
    "    else:\n",
    "        combination_mpg = 'No data found'\n",
    "else:\n",
    "    combination_mpg = f\"Error {response.status_code}\"\n",
    "\n",
    "# Append the result for the single model\n",
    "results.append({'model': model_input, 'combination_mpg': combination_mpg})\n",
    "\n",
    "# Print the result\n",
    "print(f\"Model: {model_input}, Combination MPG: {combination_mpg}\")"
   ]
  }
 ],
 "metadata": {
  "kernelspec": {
   "display_name": "Python 3 (ipykernel)",
   "language": "python",
   "name": "python3"
  },
  "language_info": {
   "codemirror_mode": {
    "name": "ipython",
    "version": 3
   },
   "file_extension": ".py",
   "mimetype": "text/x-python",
   "name": "python",
   "nbconvert_exporter": "python",
   "pygments_lexer": "ipython3",
   "version": "3.12.4"
  }
 },
 "nbformat": 4,
 "nbformat_minor": 4
}
