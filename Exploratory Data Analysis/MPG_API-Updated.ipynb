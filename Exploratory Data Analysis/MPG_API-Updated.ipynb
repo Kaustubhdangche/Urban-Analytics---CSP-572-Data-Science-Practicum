{
 "cells": [
  {
   "cell_type": "code",
   "execution_count": 7,
   "metadata": {},
   "outputs": [],
   "source": [
    "import pandas as pd\n",
    "import time\n",
    "import requests\n",
    "import urllib.parse"
   ]
  },
  {
   "cell_type": "code",
   "execution_count": 8,
   "metadata": {},
   "outputs": [],
   "source": [
    "# Load car model dataset from CSV file\n",
    "input_csv = \"C:/Users/kaur6/Downloads/Urban Analytics/Odometer Data/illinois_2023/decoded_vins_results.csv\"  # Replace with your CSV file path\n",
    "output_csv = \"C:/Users/kaur6/Downloads/Urban Analytics/Odometer Data/illinois_2023/vin_to_mpg_correct.csv\"  # Output file where you will save the results\n",
    "\n",
    "# Read the CSV file into a DataFrame\n",
    "df = pd.read_csv(input_csv)"
   ]
  },
  {
   "cell_type": "code",
   "execution_count": 9,
   "metadata": {},
   "outputs": [],
   "source": [
    "models = df['Model'].tolist()  # Assuming the column with model names is 'Model'\n",
    "model_years = df['Model Year'].tolist()\n",
    "vins = df['VIN'].tolist()  # Assuming the column with VINs is 'VIN'\n",
    "\n",
    "# List to store the results\n",
    "results = []"
   ]
  },
  {
   "cell_type": "code",
   "execution_count": 10,
   "metadata": {},
   "outputs": [
    {
     "name": "stdout",
     "output_type": "stream",
     "text": [
      "Results saved to C:/Users/kaur6/Downloads/Urban Analytics/Odometer Data/illinois_2023/vin_to_mpg_correct.csv\n"
     ]
    }
   ],
   "source": [
    "# Loop through each model and make the API request\n",
    "for model, year, vin in zip(models, model_years, vins):\n",
    "    #model_encoded = urllib.parse.quote(str(model))\n",
    "    api_url = f'https://api.api-ninjas.com/v1/cars?model={model}&year={year}'\n",
    "    headers = {'X-Api-Key': '1/aY3pF/oRUYY//kBd2WFw==mXNkrfZSlrNf9pQL'}  # Store in env variable or config file\n",
    "\n",
    "    try:\n",
    "        response = requests.get(api_url, headers=headers)\n",
    "\n",
    "        if response.status_code == requests.codes.ok:\n",
    "            car_data = response.json()\n",
    "            combination_mpg = car_data[0].get('combination_mpg', 'Combination MPG not available') if car_data else 'No data found'\n",
    "        else:\n",
    "            combination_mpg = f\"Error {response.status_code}\"\n",
    "\n",
    "    except Exception as e:\n",
    "        combination_mpg = f\"Request failed: {str(e)}\"\n",
    "\n",
    "    results.append({'VIN': vin, 'Model': model, 'Model Year': year, 'Combination MPG': combination_mpg})\n",
    "    #time.sleep(1)  # Prevent API rate limits\n",
    "\n",
    "results_df = pd.DataFrame(results)\n",
    "results_df.to_csv(output_csv, index=False)\n",
    "\n",
    "print(f\"Results saved to {output_csv}\")"
   ]
  },
  {
   "cell_type": "code",
   "execution_count": 16,
   "metadata": {},
   "outputs": [
    {
     "name": "stdin",
     "output_type": "stream",
     "text": [
      "Enter the model you want to query:  3-Sep\n",
      "Enter the model year you want to query:  2008\n"
     ]
    },
    {
     "name": "stdout",
     "output_type": "stream",
     "text": [
      "Model: 3-Sep, Combination MPG: No data found\n"
     ]
    }
   ],
   "source": [
    "import requests\n",
    "\n",
    "# Take model input from the user\n",
    "model_input = input(\"Enter the model you want to query: \")\n",
    "model_year = input(\"Enter the model year you want to query: \")\n",
    "\n",
    "# Set the API URL with the model input\n",
    "api_url = f'https://api.api-ninjas.com/v1/cars?model={model_input}&year={model_year}'\n",
    "\n",
    "# Send the API request\n",
    "response = requests.get(api_url, headers={'X-Api-Key': '1/aY3pF/oRUYY//kBd2WFw==mXNkrfZSlrNf9pQL'})\n",
    "\n",
    "# Initialize the results list\n",
    "results = []\n",
    "\n",
    "if response.status_code == requests.codes.ok:\n",
    "    car_data = response.json()\n",
    "    # Extract the 'combination_mpg' value for the car model\n",
    "    if car_data:\n",
    "        combination_mpg = car_data[0].get('combination_mpg', 'Combination MPG not available')\n",
    "    else:\n",
    "        combination_mpg = 'No data found'\n",
    "else:\n",
    "    combination_mpg = f\"Error {response.status_code}\"\n",
    "\n",
    "# Append the result for the single model\n",
    "results.append({'model': model_input, 'combination_mpg': combination_mpg})\n",
    "\n",
    "# Print the result\n",
    "print(f\"Model: {model_input}, Combination MPG: {combination_mpg}\")"
   ]
  },
  {
   "cell_type": "code",
   "execution_count": null,
   "metadata": {},
   "outputs": [],
   "source": []
  }
 ],
 "metadata": {
  "kernelspec": {
   "display_name": "Python 3 (ipykernel)",
   "language": "python",
   "name": "python3"
  },
  "language_info": {
   "codemirror_mode": {
    "name": "ipython",
    "version": 3
   },
   "file_extension": ".py",
   "mimetype": "text/x-python",
   "name": "python",
   "nbconvert_exporter": "python",
   "pygments_lexer": "ipython3",
   "version": "3.12.4"
  }
 },
 "nbformat": 4,
 "nbformat_minor": 4
}
