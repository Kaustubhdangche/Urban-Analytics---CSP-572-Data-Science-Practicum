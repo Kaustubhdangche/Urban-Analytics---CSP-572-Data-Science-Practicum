{
 "cells": [
  {
   "cell_type": "code",
   "execution_count": 5,
   "id": "376c64b8",
   "metadata": {},
   "outputs": [],
   "source": [
    "import pandas as pd\n",
    "import numpy as np\n",
    "import os\n",
    "import matplotlib.pyplot as plt"
   ]
  },
  {
   "cell_type": "code",
   "execution_count": 6,
   "id": "6264c6ec-ab18-428b-969c-fccc389c6529",
   "metadata": {},
   "outputs": [
    {
     "name": "stderr",
     "output_type": "stream",
     "text": [
      "C:\\Users\\kaur6\\AppData\\Local\\Temp\\ipykernel_13488\\1106225287.py:12: DtypeWarning: Columns (11) have mixed types. Specify dtype option on import or set low_memory=False.\n",
      "  for chunk in pd.read_csv(input_file, chunksize=chunk_size):\n",
      "C:\\Users\\kaur6\\AppData\\Local\\Temp\\ipykernel_13488\\1106225287.py:12: DtypeWarning: Columns (11) have mixed types. Specify dtype option on import or set low_memory=False.\n",
      "  for chunk in pd.read_csv(input_file, chunksize=chunk_size):\n",
      "C:\\Users\\kaur6\\AppData\\Local\\Temp\\ipykernel_13488\\1106225287.py:12: DtypeWarning: Columns (11) have mixed types. Specify dtype option on import or set low_memory=False.\n",
      "  for chunk in pd.read_csv(input_file, chunksize=chunk_size):\n",
      "C:\\Users\\kaur6\\AppData\\Local\\Temp\\ipykernel_13488\\1106225287.py:12: DtypeWarning: Columns (11) have mixed types. Specify dtype option on import or set low_memory=False.\n",
      "  for chunk in pd.read_csv(input_file, chunksize=chunk_size):\n"
     ]
    },
    {
     "name": "stdout",
     "output_type": "stream",
     "text": [
      "Filtered data saved to 'C:/Users/kaur6/Downloads/Urban Analytics/filtered_rows.csv'\n"
     ]
    }
   ],
   "source": [
    "# File paths\n",
    "input_file = \"C:/Users/kaur6/Downloads/Urban Analytics/final_cook_county_data_with_same_dtype.csv\"\n",
    "output_file = \"C:/Users/kaur6/Downloads/Urban Analytics/filtered_rows.csv\"\n",
    "\n",
    "# Target values to filter\n",
    "target_values = {'0', '100', '190', '000', '201', '241', '500', '290'}\n",
    "\n",
    "# Read and process in chunks\n",
    "chunk_size = 1000000  # Adjust based on your system’s capability\n",
    "filtered_chunks = []\n",
    "\n",
    "for chunk in pd.read_csv(input_file, chunksize=chunk_size):\n",
    "    # Clean 'class' column by stripping whitespace and removing extra quotes\n",
    "    chunk['class'] = chunk['class'].astype(str).str.strip().str.replace(\"'\", \"\", regex=False)\n",
    "\n",
    "    # Filter rows where class is in target_values\n",
    "    filtered_chunk = chunk[chunk['class'].isin(target_values)]\n",
    "    filtered_chunks.append(filtered_chunk)\n",
    "\n",
    "# Concatenate all filtered chunks and save to CSV\n",
    "if filtered_chunks:\n",
    "    final_filtered_df = pd.concat(filtered_chunks)\n",
    "    final_filtered_df.to_csv(output_file, index=False)\n",
    "\n",
    "print(f\"Filtered data saved to '{output_file}'\")"
   ]
  },
  {
   "cell_type": "code",
   "execution_count": 7,
   "id": "e22a1c68-6cbe-48bf-b6a0-3be3fac7a1a1",
   "metadata": {},
   "outputs": [
    {
     "name": "stdout",
     "output_type": "stream",
     "text": [
      "Duplicates removed. Cleaned file saved at: C:/Users/kaur6/Downloads/Urban Analytics/filtered_no_duplicates.csv\n"
     ]
    }
   ],
   "source": [
    "import pandas as pd\n",
    "\n",
    "# Load the CSV file\n",
    "file_path = \"C:/Users/kaur6/Downloads/Urban Analytics/filtered_rows.csv\"\n",
    "df = pd.read_csv(file_path)\n",
    "\n",
    "# Remove duplicates based on the 'pin' column, keeping the first occurrence\n",
    "df_unique = df.drop_duplicates(subset=['pin'], keep='first')\n",
    "\n",
    "# Save the cleaned data to a new file\n",
    "output_path = \"C:/Users/kaur6/Downloads/Urban Analytics/filtered_no_duplicates.csv\"\n",
    "df_unique.to_csv(output_path, index=False)\n",
    "\n",
    "print(f\"Duplicates removed. Cleaned file saved at: {output_path}\")"
   ]
  },
  {
   "cell_type": "code",
   "execution_count": null,
   "id": "25a19f97-dc24-4e97-88cd-e7a0b64afd9d",
   "metadata": {},
   "outputs": [],
   "source": []
  }
 ],
 "metadata": {
  "kernelspec": {
   "display_name": "Python 3 (ipykernel)",
   "language": "python",
   "name": "python3"
  },
  "language_info": {
   "codemirror_mode": {
    "name": "ipython",
    "version": 3
   },
   "file_extension": ".py",
   "mimetype": "text/x-python",
   "name": "python",
   "nbconvert_exporter": "python",
   "pygments_lexer": "ipython3",
   "version": "3.12.4"
  }
 },
 "nbformat": 4,
 "nbformat_minor": 5
}
