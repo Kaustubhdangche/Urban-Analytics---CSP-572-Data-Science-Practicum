{
  "nbformat": 4,
  "nbformat_minor": 0,
  "metadata": {
    "colab": {
      "provenance": []
    },
    "kernelspec": {
      "name": "python3",
      "display_name": "Python 3"
    },
    "language_info": {
      "name": "python"
    }
  },
  "cells": [
    {
      "cell_type": "code",
      "execution_count": 1,
      "metadata": {
        "colab": {
          "base_uri": "https://localhost:8080/"
        },
        "id": "svvX4i_-TNai",
        "outputId": "5eadc058-1399-45f7-d76c-29871b02a93d"
      },
      "outputs": [
        {
          "output_type": "stream",
          "name": "stdout",
          "text": [
            "Mounted at /content/drive\n"
          ]
        }
      ],
      "source": [
        "from google.colab import drive\n",
        "drive.mount('/content/drive')"
      ]
    },
    {
      "cell_type": "code",
      "source": [
        "import pandas as pd\n",
        "\n",
        "file_path = \"/content/drive/MyDrive/Assessor_-_Single_and_Multi-Family_Improvement_Characteristics_20250121-001.csv\"\n",
        "chunk_size = 10**6  # Process 1 million rows at a time\n",
        "unique_values = set()\n",
        "\n",
        "# Process the dataset in chunks\n",
        "for chunk in pd.read_csv(file_path, chunksize=chunk_size):\n",
        "    unique_values.update(chunk['township_code'].unique())\n",
        "\n",
        "# Convert to a sorted list or keep as a set\n",
        "unique_values = sorted(unique_values)  # optional\n",
        "print(f\"Unique township codes: {unique_values}\")"
      ],
      "metadata": {
        "colab": {
          "base_uri": "https://localhost:8080/"
        },
        "id": "Zw5cE51G7tP_",
        "outputId": "6aa2a18c-13bc-48f0-c0af-e73ef7844308"
      },
      "execution_count": 2,
      "outputs": [
        {
          "output_type": "stream",
          "name": "stderr",
          "text": [
            "<ipython-input-2-16b6b19a1ae6>:8: DtypeWarning: Columns (3,23,24,41) have mixed types. Specify dtype option on import or set low_memory=False.\n",
            "  for chunk in pd.read_csv(file_path, chunksize=chunk_size):\n",
            "<ipython-input-2-16b6b19a1ae6>:8: DtypeWarning: Columns (3,23) have mixed types. Specify dtype option on import or set low_memory=False.\n",
            "  for chunk in pd.read_csv(file_path, chunksize=chunk_size):\n",
            "<ipython-input-2-16b6b19a1ae6>:8: DtypeWarning: Columns (3,11,23,24) have mixed types. Specify dtype option on import or set low_memory=False.\n",
            "  for chunk in pd.read_csv(file_path, chunksize=chunk_size):\n",
            "<ipython-input-2-16b6b19a1ae6>:8: DtypeWarning: Columns (3,23) have mixed types. Specify dtype option on import or set low_memory=False.\n",
            "  for chunk in pd.read_csv(file_path, chunksize=chunk_size):\n",
            "<ipython-input-2-16b6b19a1ae6>:8: DtypeWarning: Columns (3,23,24) have mixed types. Specify dtype option on import or set low_memory=False.\n",
            "  for chunk in pd.read_csv(file_path, chunksize=chunk_size):\n",
            "<ipython-input-2-16b6b19a1ae6>:8: DtypeWarning: Columns (3,23) have mixed types. Specify dtype option on import or set low_memory=False.\n",
            "  for chunk in pd.read_csv(file_path, chunksize=chunk_size):\n",
            "<ipython-input-2-16b6b19a1ae6>:8: DtypeWarning: Columns (3,23,24) have mixed types. Specify dtype option on import or set low_memory=False.\n",
            "  for chunk in pd.read_csv(file_path, chunksize=chunk_size):\n",
            "<ipython-input-2-16b6b19a1ae6>:8: DtypeWarning: Columns (3,23) have mixed types. Specify dtype option on import or set low_memory=False.\n",
            "  for chunk in pd.read_csv(file_path, chunksize=chunk_size):\n",
            "<ipython-input-2-16b6b19a1ae6>:8: DtypeWarning: Columns (3,23) have mixed types. Specify dtype option on import or set low_memory=False.\n",
            "  for chunk in pd.read_csv(file_path, chunksize=chunk_size):\n",
            "<ipython-input-2-16b6b19a1ae6>:8: DtypeWarning: Columns (3,23,24) have mixed types. Specify dtype option on import or set low_memory=False.\n",
            "  for chunk in pd.read_csv(file_path, chunksize=chunk_size):\n",
            "<ipython-input-2-16b6b19a1ae6>:8: DtypeWarning: Columns (3,11,24,29) have mixed types. Specify dtype option on import or set low_memory=False.\n",
            "  for chunk in pd.read_csv(file_path, chunksize=chunk_size):\n",
            "<ipython-input-2-16b6b19a1ae6>:8: DtypeWarning: Columns (3) have mixed types. Specify dtype option on import or set low_memory=False.\n",
            "  for chunk in pd.read_csv(file_path, chunksize=chunk_size):\n",
            "<ipython-input-2-16b6b19a1ae6>:8: DtypeWarning: Columns (3) have mixed types. Specify dtype option on import or set low_memory=False.\n",
            "  for chunk in pd.read_csv(file_path, chunksize=chunk_size):\n",
            "<ipython-input-2-16b6b19a1ae6>:8: DtypeWarning: Columns (3,23) have mixed types. Specify dtype option on import or set low_memory=False.\n",
            "  for chunk in pd.read_csv(file_path, chunksize=chunk_size):\n",
            "<ipython-input-2-16b6b19a1ae6>:8: DtypeWarning: Columns (3,41) have mixed types. Specify dtype option on import or set low_memory=False.\n",
            "  for chunk in pd.read_csv(file_path, chunksize=chunk_size):\n",
            "<ipython-input-2-16b6b19a1ae6>:8: DtypeWarning: Columns (3) have mixed types. Specify dtype option on import or set low_memory=False.\n",
            "  for chunk in pd.read_csv(file_path, chunksize=chunk_size):\n",
            "<ipython-input-2-16b6b19a1ae6>:8: DtypeWarning: Columns (3,11) have mixed types. Specify dtype option on import or set low_memory=False.\n",
            "  for chunk in pd.read_csv(file_path, chunksize=chunk_size):\n",
            "<ipython-input-2-16b6b19a1ae6>:8: DtypeWarning: Columns (3,23) have mixed types. Specify dtype option on import or set low_memory=False.\n",
            "  for chunk in pd.read_csv(file_path, chunksize=chunk_size):\n",
            "<ipython-input-2-16b6b19a1ae6>:8: DtypeWarning: Columns (3) have mixed types. Specify dtype option on import or set low_memory=False.\n",
            "  for chunk in pd.read_csv(file_path, chunksize=chunk_size):\n",
            "<ipython-input-2-16b6b19a1ae6>:8: DtypeWarning: Columns (3,23) have mixed types. Specify dtype option on import or set low_memory=False.\n",
            "  for chunk in pd.read_csv(file_path, chunksize=chunk_size):\n",
            "<ipython-input-2-16b6b19a1ae6>:8: DtypeWarning: Columns (3,23,24,29,41) have mixed types. Specify dtype option on import or set low_memory=False.\n",
            "  for chunk in pd.read_csv(file_path, chunksize=chunk_size):\n",
            "<ipython-input-2-16b6b19a1ae6>:8: DtypeWarning: Columns (3,23) have mixed types. Specify dtype option on import or set low_memory=False.\n",
            "  for chunk in pd.read_csv(file_path, chunksize=chunk_size):\n",
            "<ipython-input-2-16b6b19a1ae6>:8: DtypeWarning: Columns (3,23) have mixed types. Specify dtype option on import or set low_memory=False.\n",
            "  for chunk in pd.read_csv(file_path, chunksize=chunk_size):\n",
            "<ipython-input-2-16b6b19a1ae6>:8: DtypeWarning: Columns (3,23,41) have mixed types. Specify dtype option on import or set low_memory=False.\n",
            "  for chunk in pd.read_csv(file_path, chunksize=chunk_size):\n",
            "<ipython-input-2-16b6b19a1ae6>:8: DtypeWarning: Columns (3,23) have mixed types. Specify dtype option on import or set low_memory=False.\n",
            "  for chunk in pd.read_csv(file_path, chunksize=chunk_size):\n",
            "<ipython-input-2-16b6b19a1ae6>:8: DtypeWarning: Columns (3,11,23,24,29) have mixed types. Specify dtype option on import or set low_memory=False.\n",
            "  for chunk in pd.read_csv(file_path, chunksize=chunk_size):\n",
            "<ipython-input-2-16b6b19a1ae6>:8: DtypeWarning: Columns (3,23,24) have mixed types. Specify dtype option on import or set low_memory=False.\n",
            "  for chunk in pd.read_csv(file_path, chunksize=chunk_size):\n",
            "<ipython-input-2-16b6b19a1ae6>:8: DtypeWarning: Columns (3,23,24,29,41) have mixed types. Specify dtype option on import or set low_memory=False.\n",
            "  for chunk in pd.read_csv(file_path, chunksize=chunk_size):\n",
            "<ipython-input-2-16b6b19a1ae6>:8: DtypeWarning: Columns (3,23) have mixed types. Specify dtype option on import or set low_memory=False.\n",
            "  for chunk in pd.read_csv(file_path, chunksize=chunk_size):\n"
          ]
        },
        {
          "output_type": "stream",
          "name": "stdout",
          "text": [
            "Unique township codes: [nan, 10.0, 11, 12, 13, 14, 15, 16, 17, 18, 19.0, 20, 21, 22, 23.0, 24, 25.0, 26, 27.0, 28, nan, 29.0, 30.0, 31.0, 32, 33.0, 34.0, 35, 36, nan, 37, 38.0, 39, nan, 70, 71, 72, 73.0, 74.0, 75, 76.0, nan, 77, nan, nan, nan]\n"
          ]
        }
      ]
    },
    {
      "cell_type": "markdown",
      "source": [
        "###Chicago Townships with their township codes:\n",
        "Hyde Park - 70\n",
        "\n",
        "Jefferson - 71\n",
        "\n",
        "Lake - 72\n",
        "\n",
        "Lakeview - 73\n",
        "\n",
        "North Chicago - 74\n",
        "\n",
        "Rogers Park - 75\n",
        "\n",
        "South Chicago - 76\n",
        "\n",
        "West Chicago - 77"
      ],
      "metadata": {
        "id": "KX_yAox3-19w"
      }
    },
    {
      "cell_type": "code",
      "source": [
        "# Define Chicago township codes\n",
        "chicago_township_codes = {'70', '71', '72', '73', '74', '75', '76', '77'}\n",
        "\n",
        "# Initialize an empty list to store filtered chunks\n",
        "filtered_chunks = []\n",
        "\n",
        "# Process the dataset in chunks\n",
        "for chunk in pd.read_csv(file_path, chunksize=chunk_size):\n",
        "    # Filter rows where township_code is in Chicago township codes\n",
        "    filtered_chunk = chunk[chunk['township_code'].astype(str).isin(chicago_township_codes)]\n",
        "    filtered_chunks.append(filtered_chunk)\n",
        "\n",
        "# Combine all filtered chunks into a single DataFrame\n",
        "chicago_data = pd.concat(filtered_chunks, ignore_index=True)\n",
        "\n",
        "# Save the filtered data to a new CSV file\n",
        "output_file_path = \"/content/drive/MyDrive/chicago_filtered_data.csv\"\n",
        "chicago_data.to_csv(output_file_path, index=False)\n",
        "\n",
        "print(f\"Filtered data saved to {output_file_path}\")"
      ],
      "metadata": {
        "colab": {
          "base_uri": "https://localhost:8080/"
        },
        "id": "MSQGoGAG-2yh",
        "outputId": "c87d9137-1174-4d38-ae3e-b4582d3fa032"
      },
      "execution_count": 3,
      "outputs": [
        {
          "output_type": "stream",
          "name": "stderr",
          "text": [
            "<ipython-input-3-1a43bd673fa6>:8: DtypeWarning: Columns (3,23,24,41) have mixed types. Specify dtype option on import or set low_memory=False.\n",
            "  for chunk in pd.read_csv(file_path, chunksize=chunk_size):\n",
            "<ipython-input-3-1a43bd673fa6>:8: DtypeWarning: Columns (3,23) have mixed types. Specify dtype option on import or set low_memory=False.\n",
            "  for chunk in pd.read_csv(file_path, chunksize=chunk_size):\n",
            "<ipython-input-3-1a43bd673fa6>:8: DtypeWarning: Columns (3,11,23,24) have mixed types. Specify dtype option on import or set low_memory=False.\n",
            "  for chunk in pd.read_csv(file_path, chunksize=chunk_size):\n",
            "<ipython-input-3-1a43bd673fa6>:8: DtypeWarning: Columns (3,23) have mixed types. Specify dtype option on import or set low_memory=False.\n",
            "  for chunk in pd.read_csv(file_path, chunksize=chunk_size):\n",
            "<ipython-input-3-1a43bd673fa6>:8: DtypeWarning: Columns (3,23,24) have mixed types. Specify dtype option on import or set low_memory=False.\n",
            "  for chunk in pd.read_csv(file_path, chunksize=chunk_size):\n",
            "<ipython-input-3-1a43bd673fa6>:8: DtypeWarning: Columns (3,23) have mixed types. Specify dtype option on import or set low_memory=False.\n",
            "  for chunk in pd.read_csv(file_path, chunksize=chunk_size):\n",
            "<ipython-input-3-1a43bd673fa6>:8: DtypeWarning: Columns (3,23,24) have mixed types. Specify dtype option on import or set low_memory=False.\n",
            "  for chunk in pd.read_csv(file_path, chunksize=chunk_size):\n",
            "<ipython-input-3-1a43bd673fa6>:8: DtypeWarning: Columns (3,23) have mixed types. Specify dtype option on import or set low_memory=False.\n",
            "  for chunk in pd.read_csv(file_path, chunksize=chunk_size):\n",
            "<ipython-input-3-1a43bd673fa6>:8: DtypeWarning: Columns (3,23) have mixed types. Specify dtype option on import or set low_memory=False.\n",
            "  for chunk in pd.read_csv(file_path, chunksize=chunk_size):\n",
            "<ipython-input-3-1a43bd673fa6>:8: DtypeWarning: Columns (3,23,24) have mixed types. Specify dtype option on import or set low_memory=False.\n",
            "  for chunk in pd.read_csv(file_path, chunksize=chunk_size):\n",
            "<ipython-input-3-1a43bd673fa6>:8: DtypeWarning: Columns (3,11,24,29) have mixed types. Specify dtype option on import or set low_memory=False.\n",
            "  for chunk in pd.read_csv(file_path, chunksize=chunk_size):\n",
            "<ipython-input-3-1a43bd673fa6>:8: DtypeWarning: Columns (3) have mixed types. Specify dtype option on import or set low_memory=False.\n",
            "  for chunk in pd.read_csv(file_path, chunksize=chunk_size):\n",
            "<ipython-input-3-1a43bd673fa6>:8: DtypeWarning: Columns (3) have mixed types. Specify dtype option on import or set low_memory=False.\n",
            "  for chunk in pd.read_csv(file_path, chunksize=chunk_size):\n",
            "<ipython-input-3-1a43bd673fa6>:8: DtypeWarning: Columns (3,23) have mixed types. Specify dtype option on import or set low_memory=False.\n",
            "  for chunk in pd.read_csv(file_path, chunksize=chunk_size):\n",
            "<ipython-input-3-1a43bd673fa6>:8: DtypeWarning: Columns (3,41) have mixed types. Specify dtype option on import or set low_memory=False.\n",
            "  for chunk in pd.read_csv(file_path, chunksize=chunk_size):\n",
            "<ipython-input-3-1a43bd673fa6>:8: DtypeWarning: Columns (3) have mixed types. Specify dtype option on import or set low_memory=False.\n",
            "  for chunk in pd.read_csv(file_path, chunksize=chunk_size):\n",
            "<ipython-input-3-1a43bd673fa6>:8: DtypeWarning: Columns (3,11) have mixed types. Specify dtype option on import or set low_memory=False.\n",
            "  for chunk in pd.read_csv(file_path, chunksize=chunk_size):\n",
            "<ipython-input-3-1a43bd673fa6>:8: DtypeWarning: Columns (3,23) have mixed types. Specify dtype option on import or set low_memory=False.\n",
            "  for chunk in pd.read_csv(file_path, chunksize=chunk_size):\n",
            "<ipython-input-3-1a43bd673fa6>:8: DtypeWarning: Columns (3) have mixed types. Specify dtype option on import or set low_memory=False.\n",
            "  for chunk in pd.read_csv(file_path, chunksize=chunk_size):\n",
            "<ipython-input-3-1a43bd673fa6>:8: DtypeWarning: Columns (3,23) have mixed types. Specify dtype option on import or set low_memory=False.\n",
            "  for chunk in pd.read_csv(file_path, chunksize=chunk_size):\n",
            "<ipython-input-3-1a43bd673fa6>:8: DtypeWarning: Columns (3,23,24,29,41) have mixed types. Specify dtype option on import or set low_memory=False.\n",
            "  for chunk in pd.read_csv(file_path, chunksize=chunk_size):\n",
            "<ipython-input-3-1a43bd673fa6>:8: DtypeWarning: Columns (3,23) have mixed types. Specify dtype option on import or set low_memory=False.\n",
            "  for chunk in pd.read_csv(file_path, chunksize=chunk_size):\n",
            "<ipython-input-3-1a43bd673fa6>:8: DtypeWarning: Columns (3,23) have mixed types. Specify dtype option on import or set low_memory=False.\n",
            "  for chunk in pd.read_csv(file_path, chunksize=chunk_size):\n",
            "<ipython-input-3-1a43bd673fa6>:8: DtypeWarning: Columns (3,23,41) have mixed types. Specify dtype option on import or set low_memory=False.\n",
            "  for chunk in pd.read_csv(file_path, chunksize=chunk_size):\n",
            "<ipython-input-3-1a43bd673fa6>:8: DtypeWarning: Columns (3,23) have mixed types. Specify dtype option on import or set low_memory=False.\n",
            "  for chunk in pd.read_csv(file_path, chunksize=chunk_size):\n",
            "<ipython-input-3-1a43bd673fa6>:8: DtypeWarning: Columns (3,11,23,24,29) have mixed types. Specify dtype option on import or set low_memory=False.\n",
            "  for chunk in pd.read_csv(file_path, chunksize=chunk_size):\n",
            "<ipython-input-3-1a43bd673fa6>:8: DtypeWarning: Columns (3,23,24) have mixed types. Specify dtype option on import or set low_memory=False.\n",
            "  for chunk in pd.read_csv(file_path, chunksize=chunk_size):\n",
            "<ipython-input-3-1a43bd673fa6>:8: DtypeWarning: Columns (3,23,24,29,41) have mixed types. Specify dtype option on import or set low_memory=False.\n",
            "  for chunk in pd.read_csv(file_path, chunksize=chunk_size):\n",
            "<ipython-input-3-1a43bd673fa6>:8: DtypeWarning: Columns (3,23) have mixed types. Specify dtype option on import or set low_memory=False.\n",
            "  for chunk in pd.read_csv(file_path, chunksize=chunk_size):\n"
          ]
        },
        {
          "output_type": "stream",
          "name": "stdout",
          "text": [
            "Filtered data saved to /content/drive/MyDrive/chicago_filtered_data.csv\n"
          ]
        }
      ]
    },
    {
      "cell_type": "code",
      "source": [
        "import pandas as pd\n",
        "\n",
        "# Load the filtered dataset\n",
        "file_path = \"/content/drive/MyDrive/chicago_filtered_data.csv\"\n",
        "df = pd.read_csv(file_path)\n",
        "\n",
        "# Quick overview of the data\n",
        "print(df.info())  # Summary of columns and data types\n",
        "print(df.head())  # Preview the first few rows"
      ],
      "metadata": {
        "colab": {
          "base_uri": "https://localhost:8080/"
        },
        "id": "4zZwpQTx-2YB",
        "outputId": "fc25fd3a-7aef-4d6f-a7e8-5a393fea8d1b"
      },
      "execution_count": 1,
      "outputs": [
        {
          "output_type": "stream",
          "name": "stderr",
          "text": [
            "<ipython-input-1-697d64ccca16>:5: DtypeWarning: Columns (3,23) have mixed types. Specify dtype option on import or set low_memory=False.\n",
            "  df = pd.read_csv(file_path)\n"
          ]
        },
        {
          "output_type": "stream",
          "name": "stdout",
          "text": [
            "<class 'pandas.core.frame.DataFrame'>\n",
            "RangeIndex: 7612130 entries, 0 to 7612129\n",
            "Data columns (total 44 columns):\n",
            " #   Column                    Dtype  \n",
            "---  ------                    -----  \n",
            " 0   pin                       int64  \n",
            " 1   tax_year                  int64  \n",
            " 2   card_num                  int64  \n",
            " 3   class                     object \n",
            " 4   township_code             float64\n",
            " 5   proration_key_pin         float64\n",
            " 6   pin_proration_rate        float64\n",
            " 7   card_proration_rate       float64\n",
            " 8   cdu                       object \n",
            " 9   pin_is_multicard          bool   \n",
            " 10  pin_num_cards             int64  \n",
            " 11  pin_is_multiland          bool   \n",
            " 12  pin_num_landlines         float64\n",
            " 13  year_built                float64\n",
            " 14  building_sqft             float64\n",
            " 15  land_sqft                 float64\n",
            " 16  num_bedrooms              float64\n",
            " 17  num_rooms                 float64\n",
            " 18  num_full_baths            float64\n",
            " 19  num_half_baths            float64\n",
            " 20  num_fireplaces            float64\n",
            " 21  type_of_residence         object \n",
            " 22  construction_quality      object \n",
            " 23  num_apartments            object \n",
            " 24  attic_finish              object \n",
            " 25  garage_attached           object \n",
            " 26  garage_area_included      object \n",
            " 27  garage_size               object \n",
            " 28  garage_ext_wall_material  object \n",
            " 29  attic_type                object \n",
            " 30  basement_type             object \n",
            " 31  ext_wall_material         object \n",
            " 32  central_heating           object \n",
            " 33  repair_condition          object \n",
            " 34  basement_finish           object \n",
            " 35  roof_material             object \n",
            " 36  single_v_multi_family     object \n",
            " 37  site_desirability         object \n",
            " 38  num_commercial_units      float64\n",
            " 39  renovation                object \n",
            " 40  recent_renovation         bool   \n",
            " 41  porch                     object \n",
            " 42  central_air               object \n",
            " 43  design_plan               object \n",
            "dtypes: bool(3), float64(14), int64(4), object(23)\n",
            "memory usage: 2.3+ GB\n",
            "None\n",
            "             pin  tax_year  card_num class  township_code  proration_key_pin  \\\n",
            "0  9253030240000      1999         1   204           71.0                NaN   \n",
            "1  9253030240000      2000         1   204           71.0                NaN   \n",
            "2  9253030240000      2001         1   204           71.0                NaN   \n",
            "3  9253030240000      2002         1   204           71.0                NaN   \n",
            "4  9253030240000      2003         1   204           71.0                NaN   \n",
            "\n",
            "   pin_proration_rate  card_proration_rate cdu  pin_is_multicard  ...  \\\n",
            "0                 1.0                  0.0  AV             False  ...   \n",
            "1                 1.0                  0.0  AV             False  ...   \n",
            "2                 1.0                  0.0  AV             False  ...   \n",
            "3                 1.0                  0.0  AV             False  ...   \n",
            "4                 1.0                  0.0  AV             False  ...   \n",
            "\n",
            "   basement_finish      roof_material  single_v_multi_family  \\\n",
            "0       Unfinished  Shingle + Asphalt          Single-Family   \n",
            "1       Unfinished  Shingle + Asphalt          Single-Family   \n",
            "2       Unfinished  Shingle + Asphalt          Single-Family   \n",
            "3       Unfinished  Shingle + Asphalt          Single-Family   \n",
            "4       Unfinished  Shingle + Asphalt          Single-Family   \n",
            "\n",
            "       site_desirability  num_commercial_units  renovation  recent_renovation  \\\n",
            "0  Not Relevant To Value                   0.0          No              False   \n",
            "1  Not Relevant To Value                   0.0          No              False   \n",
            "2  Not Relevant To Value                   0.0          No              False   \n",
            "3  Not Relevant To Value                   0.0          No              False   \n",
            "4  Not Relevant To Value                   0.0          No              False   \n",
            "\n",
            "              porch  central_air  design_plan  \n",
            "0  Masonry Enclosed  Central A/C          NaN  \n",
            "1  Masonry Enclosed  Central A/C          NaN  \n",
            "2  Masonry Enclosed  Central A/C          NaN  \n",
            "3  Masonry Enclosed  Central A/C          NaN  \n",
            "4  Masonry Enclosed  Central A/C          NaN  \n",
            "\n",
            "[5 rows x 44 columns]\n"
          ]
        }
      ]
    },
    {
      "cell_type": "code",
      "source": [
        "# Check for missing values\n",
        "missing_values = df.isnull().sum()\n",
        "print(f\"Missing values:\\n{missing_values}\")"
      ],
      "metadata": {
        "colab": {
          "base_uri": "https://localhost:8080/"
        },
        "id": "Hmn6Ks5OF6pA",
        "outputId": "85b763c4-a3fd-410f-f275-a3de9377013c"
      },
      "execution_count": 2,
      "outputs": [
        {
          "output_type": "stream",
          "name": "stdout",
          "text": [
            "Missing values:\n",
            "pin                               0\n",
            "tax_year                          0\n",
            "card_num                          0\n",
            "class                             0\n",
            "township_code                     0\n",
            "proration_key_pin           7408368\n",
            "pin_proration_rate                0\n",
            "card_proration_rate            7039\n",
            "cdu                            3160\n",
            "pin_is_multicard                  0\n",
            "pin_num_cards                     0\n",
            "pin_is_multiland                  0\n",
            "pin_num_landlines                 0\n",
            "year_built                       90\n",
            "building_sqft                 19909\n",
            "land_sqft                   2017557\n",
            "num_bedrooms                  20121\n",
            "num_rooms                     20192\n",
            "num_full_baths                20122\n",
            "num_half_baths                21104\n",
            "num_fireplaces                22645\n",
            "type_of_residence             19995\n",
            "construction_quality              0\n",
            "num_apartments              6083770\n",
            "attic_finish                6538177\n",
            "garage_attached               21631\n",
            "garage_area_included          21644\n",
            "garage_size                   20338\n",
            "garage_ext_wall_material    1917898\n",
            "attic_type                  4735878\n",
            "basement_type                 20131\n",
            "ext_wall_material             20115\n",
            "central_heating               56217\n",
            "repair_condition              20129\n",
            "basement_finish               20757\n",
            "roof_material                 20122\n",
            "single_v_multi_family         20081\n",
            "site_desirability             20133\n",
            "num_commercial_units           2669\n",
            "renovation                    20515\n",
            "recent_renovation                 0\n",
            "porch                       5815575\n",
            "central_air                   20152\n",
            "design_plan                 3296180\n",
            "dtype: int64\n"
          ]
        }
      ]
    }
  ]
}