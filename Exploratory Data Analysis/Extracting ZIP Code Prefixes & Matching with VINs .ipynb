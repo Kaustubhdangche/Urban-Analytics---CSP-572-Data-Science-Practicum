{
 "cells": [
  {
   "cell_type": "markdown",
   "id": "1996ac1b",
   "metadata": {},
   "source": [
    "### Extracting ZIP Code Prefixes & Matching with VINs "
   ]
  },
  {
   "cell_type": "code",
   "execution_count": 1,
   "id": "02c98543",
   "metadata": {},
   "outputs": [],
   "source": [
    "import pandas as pd\n",
    "import numpy as np"
   ]
  },
  {
   "cell_type": "code",
   "execution_count": 2,
   "id": "e2e16064",
   "metadata": {},
   "outputs": [
    {
     "data": {
      "text/html": [
       "<div>\n",
       "<style scoped>\n",
       "    .dataframe tbody tr th:only-of-type {\n",
       "        vertical-align: middle;\n",
       "    }\n",
       "\n",
       "    .dataframe tbody tr th {\n",
       "        vertical-align: top;\n",
       "    }\n",
       "\n",
       "    .dataframe thead th {\n",
       "        text-align: right;\n",
       "    }\n",
       "</style>\n",
       "<table border=\"1\" class=\"dataframe\">\n",
       "  <thead>\n",
       "    <tr style=\"text-align: right;\">\n",
       "      <th></th>\n",
       "      <th>vin</th>\n",
       "      <th>zipcode</th>\n",
       "      <th>odometer</th>\n",
       "      <th>test_date</th>\n",
       "      <th>make</th>\n",
       "      <th>model</th>\n",
       "      <th>my</th>\n",
       "      <th>purchase_date</th>\n",
       "    </tr>\n",
       "  </thead>\n",
       "  <tbody>\n",
       "    <tr>\n",
       "      <th>0</th>\n",
       "      <td>WBAEV33452KL68783</td>\n",
       "      <td>606551055.0</td>\n",
       "      <td>125000</td>\n",
       "      <td>6/1/2020</td>\n",
       "      <td>BMW</td>\n",
       "      <td>3 Series</td>\n",
       "      <td>2002</td>\n",
       "      <td>5/1/2021</td>\n",
       "    </tr>\n",
       "    <tr>\n",
       "      <th>1</th>\n",
       "      <td>1GBFG15R6Y1100200</td>\n",
       "      <td>606321626.0</td>\n",
       "      <td>206000</td>\n",
       "      <td>6/1/2020</td>\n",
       "      <td>CHEV</td>\n",
       "      <td>Express Cargo</td>\n",
       "      <td>2000</td>\n",
       "      <td>5/21/2017</td>\n",
       "    </tr>\n",
       "    <tr>\n",
       "      <th>2</th>\n",
       "      <td>1GCDT136548185796</td>\n",
       "      <td>605011310.0</td>\n",
       "      <td>109000</td>\n",
       "      <td>6/1/2020</td>\n",
       "      <td>CHEV</td>\n",
       "      <td>Colorado</td>\n",
       "      <td>2004</td>\n",
       "      <td>6/18/2013</td>\n",
       "    </tr>\n",
       "    <tr>\n",
       "      <th>3</th>\n",
       "      <td>2GKALMEK0C6364495</td>\n",
       "      <td>604534400.0</td>\n",
       "      <td>80000</td>\n",
       "      <td>6/1/2020</td>\n",
       "      <td>GMC</td>\n",
       "      <td>Terrain</td>\n",
       "      <td>2012</td>\n",
       "      <td>4/26/2018</td>\n",
       "    </tr>\n",
       "    <tr>\n",
       "      <th>4</th>\n",
       "      <td>1HGCG1652YA094701</td>\n",
       "      <td>604591106.0</td>\n",
       "      <td>167000</td>\n",
       "      <td>6/1/2020</td>\n",
       "      <td>HOND</td>\n",
       "      <td>Accord</td>\n",
       "      <td>2000</td>\n",
       "      <td>7/19/2014</td>\n",
       "    </tr>\n",
       "  </tbody>\n",
       "</table>\n",
       "</div>"
      ],
      "text/plain": [
       "                 vin      zipcode  odometer test_date  make          model  \\\n",
       "0  WBAEV33452KL68783  606551055.0    125000  6/1/2020  BMW        3 Series   \n",
       "1  1GBFG15R6Y1100200  606321626.0    206000  6/1/2020  CHEV  Express Cargo   \n",
       "2  1GCDT136548185796  605011310.0    109000  6/1/2020  CHEV       Colorado   \n",
       "3  2GKALMEK0C6364495  604534400.0     80000  6/1/2020  GMC         Terrain   \n",
       "4  1HGCG1652YA094701  604591106.0    167000  6/1/2020  HOND         Accord   \n",
       "\n",
       "     my purchase_date  \n",
       "0  2002      5/1/2021  \n",
       "1  2000     5/21/2017  \n",
       "2  2004     6/18/2013  \n",
       "3  2012     4/26/2018  \n",
       "4  2000     7/19/2014  "
      ]
     },
     "execution_count": 2,
     "metadata": {},
     "output_type": "execute_result"
    }
   ],
   "source": [
    "df = pd.read_csv(\"merged_all_years.csv\")\n",
    "df.head()"
   ]
  },
  {
   "cell_type": "code",
   "execution_count": 3,
   "id": "89ab8ff4",
   "metadata": {},
   "outputs": [
    {
     "data": {
      "text/plain": [
       "(8345437, 8)"
      ]
     },
     "execution_count": 3,
     "metadata": {},
     "output_type": "execute_result"
    }
   ],
   "source": [
    "df.shape"
   ]
  },
  {
   "cell_type": "code",
   "execution_count": 4,
   "id": "5a6991a4",
   "metadata": {},
   "outputs": [
    {
     "name": "stdout",
     "output_type": "stream",
     "text": [
      "<class 'pandas.core.frame.DataFrame'>\n",
      "RangeIndex: 8345437 entries, 0 to 8345436\n",
      "Data columns (total 8 columns):\n",
      " #   Column         Dtype  \n",
      "---  ------         -----  \n",
      " 0   vin            object \n",
      " 1   zipcode        float64\n",
      " 2   odometer       int64  \n",
      " 3   test_date      object \n",
      " 4   make           object \n",
      " 5   model          object \n",
      " 6   my             int64  \n",
      " 7   purchase_date  object \n",
      "dtypes: float64(1), int64(2), object(5)\n",
      "memory usage: 509.4+ MB\n"
     ]
    }
   ],
   "source": [
    "df.info()"
   ]
  },
  {
   "cell_type": "code",
   "execution_count": 5,
   "id": "9b199a21",
   "metadata": {},
   "outputs": [
    {
     "data": {
      "text/html": [
       "<div>\n",
       "<style scoped>\n",
       "    .dataframe tbody tr th:only-of-type {\n",
       "        vertical-align: middle;\n",
       "    }\n",
       "\n",
       "    .dataframe tbody tr th {\n",
       "        vertical-align: top;\n",
       "    }\n",
       "\n",
       "    .dataframe thead th {\n",
       "        text-align: right;\n",
       "    }\n",
       "</style>\n",
       "<table border=\"1\" class=\"dataframe\">\n",
       "  <thead>\n",
       "    <tr style=\"text-align: right;\">\n",
       "      <th></th>\n",
       "      <th>zipcode</th>\n",
       "      <th>odometer</th>\n",
       "      <th>my</th>\n",
       "    </tr>\n",
       "  </thead>\n",
       "  <tbody>\n",
       "    <tr>\n",
       "      <th>count</th>\n",
       "      <td>8.338819e+06</td>\n",
       "      <td>8.345437e+06</td>\n",
       "      <td>8.345437e+06</td>\n",
       "    </tr>\n",
       "    <tr>\n",
       "      <th>mean</th>\n",
       "      <td>6.046699e+08</td>\n",
       "      <td>1.010332e+05</td>\n",
       "      <td>2.011365e+03</td>\n",
       "    </tr>\n",
       "    <tr>\n",
       "      <th>std</th>\n",
       "      <td>6.046076e+06</td>\n",
       "      <td>6.211243e+04</td>\n",
       "      <td>5.478820e+00</td>\n",
       "    </tr>\n",
       "    <tr>\n",
       "      <th>min</th>\n",
       "      <td>6.014800e+04</td>\n",
       "      <td>0.000000e+00</td>\n",
       "      <td>1.993000e+03</td>\n",
       "    </tr>\n",
       "    <tr>\n",
       "      <th>25%</th>\n",
       "      <td>6.012075e+08</td>\n",
       "      <td>5.500000e+04</td>\n",
       "      <td>2.007000e+03</td>\n",
       "    </tr>\n",
       "    <tr>\n",
       "      <th>50%</th>\n",
       "      <td>6.045196e+08</td>\n",
       "      <td>9.200000e+04</td>\n",
       "      <td>2.012000e+03</td>\n",
       "    </tr>\n",
       "    <tr>\n",
       "      <th>75%</th>\n",
       "      <td>6.062326e+08</td>\n",
       "      <td>1.400000e+05</td>\n",
       "      <td>2.016000e+03</td>\n",
       "    </tr>\n",
       "    <tr>\n",
       "      <th>max</th>\n",
       "      <td>9.970136e+08</td>\n",
       "      <td>9.990000e+05</td>\n",
       "      <td>2.025000e+03</td>\n",
       "    </tr>\n",
       "  </tbody>\n",
       "</table>\n",
       "</div>"
      ],
      "text/plain": [
       "            zipcode      odometer            my\n",
       "count  8.338819e+06  8.345437e+06  8.345437e+06\n",
       "mean   6.046699e+08  1.010332e+05  2.011365e+03\n",
       "std    6.046076e+06  6.211243e+04  5.478820e+00\n",
       "min    6.014800e+04  0.000000e+00  1.993000e+03\n",
       "25%    6.012075e+08  5.500000e+04  2.007000e+03\n",
       "50%    6.045196e+08  9.200000e+04  2.012000e+03\n",
       "75%    6.062326e+08  1.400000e+05  2.016000e+03\n",
       "max    9.970136e+08  9.990000e+05  2.025000e+03"
      ]
     },
     "execution_count": 5,
     "metadata": {},
     "output_type": "execute_result"
    }
   ],
   "source": [
    "df.describe()"
   ]
  },
  {
   "cell_type": "code",
   "execution_count": 6,
   "id": "39bc060c",
   "metadata": {},
   "outputs": [
    {
     "data": {
      "text/plain": [
       "vin                 0\n",
       "zipcode          6618\n",
       "odometer            0\n",
       "test_date           0\n",
       "make                2\n",
       "model             386\n",
       "my                  0\n",
       "purchase_date    6633\n",
       "dtype: int64"
      ]
     },
     "execution_count": 6,
     "metadata": {},
     "output_type": "execute_result"
    }
   ],
   "source": [
    "df.isnull().sum()"
   ]
  },
  {
   "cell_type": "code",
   "execution_count": 7,
   "id": "9e8fa79a",
   "metadata": {},
   "outputs": [],
   "source": [
    "df = df.dropna()"
   ]
  },
  {
   "cell_type": "code",
   "execution_count": 8,
   "id": "dcf9f8ba",
   "metadata": {},
   "outputs": [
    {
     "data": {
      "text/plain": [
       "vin              0\n",
       "zipcode          0\n",
       "odometer         0\n",
       "test_date        0\n",
       "make             0\n",
       "model            0\n",
       "my               0\n",
       "purchase_date    0\n",
       "dtype: int64"
      ]
     },
     "execution_count": 8,
     "metadata": {},
     "output_type": "execute_result"
    }
   ],
   "source": [
    "df.isnull().sum()"
   ]
  },
  {
   "cell_type": "code",
   "execution_count": 9,
   "id": "e3784e82",
   "metadata": {},
   "outputs": [],
   "source": [
    "df['zipcode'] = df['zipcode'].astype(str).str[:5]"
   ]
  },
  {
   "cell_type": "code",
   "execution_count": 10,
   "id": "8c7e6a21",
   "metadata": {},
   "outputs": [
    {
     "data": {
      "text/html": [
       "<div>\n",
       "<style scoped>\n",
       "    .dataframe tbody tr th:only-of-type {\n",
       "        vertical-align: middle;\n",
       "    }\n",
       "\n",
       "    .dataframe tbody tr th {\n",
       "        vertical-align: top;\n",
       "    }\n",
       "\n",
       "    .dataframe thead th {\n",
       "        text-align: right;\n",
       "    }\n",
       "</style>\n",
       "<table border=\"1\" class=\"dataframe\">\n",
       "  <thead>\n",
       "    <tr style=\"text-align: right;\">\n",
       "      <th></th>\n",
       "      <th>vin</th>\n",
       "      <th>zipcode</th>\n",
       "      <th>odometer</th>\n",
       "      <th>test_date</th>\n",
       "      <th>make</th>\n",
       "      <th>model</th>\n",
       "      <th>my</th>\n",
       "      <th>purchase_date</th>\n",
       "    </tr>\n",
       "  </thead>\n",
       "  <tbody>\n",
       "    <tr>\n",
       "      <th>0</th>\n",
       "      <td>WBAEV33452KL68783</td>\n",
       "      <td>60655</td>\n",
       "      <td>125000</td>\n",
       "      <td>6/1/2020</td>\n",
       "      <td>BMW</td>\n",
       "      <td>3 Series</td>\n",
       "      <td>2002</td>\n",
       "      <td>5/1/2021</td>\n",
       "    </tr>\n",
       "    <tr>\n",
       "      <th>1</th>\n",
       "      <td>1GBFG15R6Y1100200</td>\n",
       "      <td>60632</td>\n",
       "      <td>206000</td>\n",
       "      <td>6/1/2020</td>\n",
       "      <td>CHEV</td>\n",
       "      <td>Express Cargo</td>\n",
       "      <td>2000</td>\n",
       "      <td>5/21/2017</td>\n",
       "    </tr>\n",
       "    <tr>\n",
       "      <th>2</th>\n",
       "      <td>1GCDT136548185796</td>\n",
       "      <td>60501</td>\n",
       "      <td>109000</td>\n",
       "      <td>6/1/2020</td>\n",
       "      <td>CHEV</td>\n",
       "      <td>Colorado</td>\n",
       "      <td>2004</td>\n",
       "      <td>6/18/2013</td>\n",
       "    </tr>\n",
       "    <tr>\n",
       "      <th>3</th>\n",
       "      <td>2GKALMEK0C6364495</td>\n",
       "      <td>60453</td>\n",
       "      <td>80000</td>\n",
       "      <td>6/1/2020</td>\n",
       "      <td>GMC</td>\n",
       "      <td>Terrain</td>\n",
       "      <td>2012</td>\n",
       "      <td>4/26/2018</td>\n",
       "    </tr>\n",
       "    <tr>\n",
       "      <th>4</th>\n",
       "      <td>1HGCG1652YA094701</td>\n",
       "      <td>60459</td>\n",
       "      <td>167000</td>\n",
       "      <td>6/1/2020</td>\n",
       "      <td>HOND</td>\n",
       "      <td>Accord</td>\n",
       "      <td>2000</td>\n",
       "      <td>7/19/2014</td>\n",
       "    </tr>\n",
       "  </tbody>\n",
       "</table>\n",
       "</div>"
      ],
      "text/plain": [
       "                 vin zipcode  odometer test_date  make          model    my  \\\n",
       "0  WBAEV33452KL68783   60655    125000  6/1/2020  BMW        3 Series  2002   \n",
       "1  1GBFG15R6Y1100200   60632    206000  6/1/2020  CHEV  Express Cargo  2000   \n",
       "2  1GCDT136548185796   60501    109000  6/1/2020  CHEV       Colorado  2004   \n",
       "3  2GKALMEK0C6364495   60453     80000  6/1/2020  GMC         Terrain  2012   \n",
       "4  1HGCG1652YA094701   60459    167000  6/1/2020  HOND         Accord  2000   \n",
       "\n",
       "  purchase_date  \n",
       "0      5/1/2021  \n",
       "1     5/21/2017  \n",
       "2     6/18/2013  \n",
       "3     4/26/2018  \n",
       "4     7/19/2014  "
      ]
     },
     "execution_count": 10,
     "metadata": {},
     "output_type": "execute_result"
    }
   ],
   "source": [
    "df.head()"
   ]
  },
  {
   "cell_type": "code",
   "execution_count": 11,
   "id": "15203639",
   "metadata": {},
   "outputs": [
    {
     "name": "stdout",
     "output_type": "stream",
     "text": [
      "                 vin zipcode\n",
      "0  WBAEV33452KL68783   60655\n",
      "1  1GBFG15R6Y1100200   60632\n",
      "2  1GCDT136548185796   60501\n",
      "3  2GKALMEK0C6364495   60453\n",
      "4  1HGCG1652YA094701   60459\n"
     ]
    }
   ],
   "source": [
    "df_subset = df[['vin', 'zipcode']]\n",
    "print(df_subset.head())"
   ]
  },
  {
   "cell_type": "code",
   "execution_count": 13,
   "id": "084bf72f",
   "metadata": {},
   "outputs": [],
   "source": [
    "df.to_csv(\"Extracting ZIP Code Prefixes & Matching with VINs.csv\", index=False)"
   ]
  },
  {
   "cell_type": "code",
   "execution_count": null,
   "id": "10326a2b",
   "metadata": {},
   "outputs": [],
   "source": []
  }
 ],
 "metadata": {
  "kernelspec": {
   "display_name": "Python 3 (ipykernel)",
   "language": "python",
   "name": "python3"
  },
  "language_info": {
   "codemirror_mode": {
    "name": "ipython",
    "version": 3
   },
   "file_extension": ".py",
   "mimetype": "text/x-python",
   "name": "python",
   "nbconvert_exporter": "python",
   "pygments_lexer": "ipython3",
   "version": "3.11.4"
  }
 },
 "nbformat": 4,
 "nbformat_minor": 5
}
