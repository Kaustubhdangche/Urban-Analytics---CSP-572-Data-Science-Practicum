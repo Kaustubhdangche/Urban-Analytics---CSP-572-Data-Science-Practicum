{
 "cells": [
  {
   "cell_type": "code",
   "execution_count": 8,
   "id": "a6bc403f-138f-456a-8b57-c501b06eab16",
   "metadata": {},
   "outputs": [],
   "source": [
    "import pandas as pd\n",
    "import requests\n",
    "import time"
   ]
  },
  {
   "cell_type": "code",
   "execution_count": 9,
   "id": "ad72ae30-f399-45c4-b779-5a1e664e23ec",
   "metadata": {},
   "outputs": [
    {
     "name": "stdout",
     "output_type": "stream",
     "text": [
      "Number of rows in the dataset: 4144055\n"
     ]
    }
   ],
   "source": [
    "# Load the dataset\n",
    "file_path = \"C:/Users/kaur6/Downloads/Urban Analytics/Odometer Data/illinois_2023/merged_dataset.csv\"  # Update this with the actual file path\n",
    "df = pd.read_csv(file_path)\n",
    "print(f\"Number of rows in the dataset: {df.shape[0]}\")"
   ]
  },
  {
   "cell_type": "code",
   "execution_count": 10,
   "id": "055b8d73-3bba-4301-9b1e-d095a2a40763",
   "metadata": {},
   "outputs": [],
   "source": [
    "# Fetch the first 100 VINs from the dataset\n",
    "first_500_vins = df['vin'][:500].tolist()"
   ]
  },
  {
   "cell_type": "code",
   "execution_count": 11,
   "id": "fa25ed6f-1dab-4387-b41a-c6c05bdbca63",
   "metadata": {},
   "outputs": [],
   "source": [
    "import pyodbc\n",
    "# Database connection\n",
    "conn = pyodbc.connect('DRIVER={SQL Server};SERVER=manpreets_asus;DATABASE=vPICList_Lite1;Trusted_Connection=yes;')\n",
    "cursor = conn.cursor()"
   ]
  },
  {
   "cell_type": "code",
   "execution_count": 12,
   "id": "5cd49776-a4e1-4b70-8614-0e3c5cc51b5c",
   "metadata": {},
   "outputs": [
    {
     "name": "stdout",
     "output_type": "stream",
     "text": [
      "Results saved to C:/Users/kaur6/Downloads/Urban Analytics/Odometer Data/illinois_2023/decoded_vins_results.csv\n"
     ]
    }
   ],
   "source": [
    "# List to store results\n",
    "all_results = []\n",
    "\n",
    "# Loop through each VIN and fetch results\n",
    "for vin in first_500_vins:\n",
    "    cursor.execute(\"EXEC [dbo].[spVinDecode] @v = ?\", vin)\n",
    "    results = cursor.fetchall()\n",
    "\n",
    "    if results:\n",
    "        # Extract column names\n",
    "        columns = [column[0] for column in cursor.description]\n",
    "\n",
    "        # Append data with VIN included\n",
    "        for row in results:\n",
    "            row_dict = dict(zip(columns, row))\n",
    "            row_dict[\"VIN\"] = vin  # Add VIN as a separate column\n",
    "            all_results.append(row_dict)\n",
    "\n",
    "# Close database connection\n",
    "cursor.close()\n",
    "conn.close()\n",
    "\n",
    "# Convert results to DataFrame\n",
    "df_results = pd.DataFrame(all_results)\n",
    "\n",
    "# Check for duplicates before pivoting\n",
    "df_results = df_results.groupby([\"VIN\", \"Variable\"])[\"Value\"].agg(lambda x: \"; \".join(x.astype(str))).reset_index()\n",
    "\n",
    "# Pivot the DataFrame: Convert 'Variable' column into column headers\n",
    "df_pivot = df_results.pivot(index=\"VIN\", columns=\"Variable\", values=\"Value\")\n",
    "\n",
    "# Reset column names for clarity\n",
    "df_pivot.reset_index(inplace=True)\n",
    "\n",
    "# Save to CSV\n",
    "output_file = \"C:/Users/kaur6/Downloads/Urban Analytics/Odometer Data/illinois_2023/decoded_vins_results.csv\"\n",
    "df_pivot.to_csv(output_file, index=False)\n",
    "\n",
    "print(f\"Results saved to {output_file}\")"
   ]
  },
  {
   "cell_type": "code",
   "execution_count": 13,
   "id": "20553143-df42-4082-af74-b88bf984b9a9",
   "metadata": {},
   "outputs": [
    {
     "name": "stdout",
     "output_type": "stream",
     "text": [
      "File saved: C:/Users/kaur6/Downloads/Urban Analytics/Odometer Data/illinois_2023/vin_with_mpg.csv\n"
     ]
    }
   ],
   "source": [
    "import pandas as pd\n",
    "\n",
    "# Load the datasets\n",
    "mpg_file = \"C:/Users/kaur6/Downloads/Urban Analytics/Odometer Data/illinois_2023/mpg_with_model.csv\"  # Update with actual path\n",
    "vin_file = \"C:/Users/kaur6/Downloads/Urban Analytics/Odometer Data/illinois_2023/decoded_vins_results.csv\"  # Update with actual path\n",
    "\n",
    "df_mpg = pd.read_csv(mpg_file)\n",
    "df_vin = pd.read_csv(vin_file)\n",
    "\n",
    "# Standardize column names to lowercase for consistent merging\n",
    "df_vin.rename(columns={\"Model\": \"model\"}, inplace=True)\n",
    "\n",
    "# Merge datasets on 'model' column\n",
    "df_merged = df_vin.merge(df_mpg, on=\"model\", how=\"left\")\n",
    "\n",
    "# Select only VIN and combination_mpg columns\n",
    "df_final = df_merged[[\"VIN\", \"combination_mpg\"]]\n",
    "\n",
    "# Save the final dataset\n",
    "output_file = \"C:/Users/kaur6/Downloads/Urban Analytics/Odometer Data/illinois_2023/vin_with_mpg.csv\"\n",
    "df_final.to_csv(output_file, index=False)\n",
    "\n",
    "print(f\"File saved: {output_file}\")"
   ]
  },
  {
   "cell_type": "code",
   "execution_count": null,
   "id": "880e0ae2-d271-43da-a570-5f7650201629",
   "metadata": {},
   "outputs": [],
   "source": []
  },
  {
   "cell_type": "code",
   "execution_count": 9,
   "id": "55c55957-f3a4-418e-a3ee-6434a7544114",
   "metadata": {},
   "outputs": [
    {
     "name": "stdout",
     "output_type": "stream",
     "text": [
      "(None, 'Suggested VIN', '', None, None, '', 142, '', None, None, 'SuggestedVIN', 'string', 'Decoding', 'Corrections', None)\n",
      "(None, 'Error Code', '0', None, None, '', 143, '0', None, None, 'ErrorCode', 'lookup', 'Decoding', 'Corrections', None)\n",
      "(None, 'Possible Values', '', None, None, '', 144, '', None, None, 'PossibleValues', 'string', 'Decoding', 'Corrections', None)\n",
      "(None, 'Additional Error Text', None, None, None, '', 156, None, None, None, 'AdditionalErrorText', 'string', 'Decoding', 'Corrections', None)\n",
      "(None, 'Error Text', '0 - VIN decoded clean. Check Digit (9th position) is correct', None, None, '', 191, '0 - VIN decoded clean. Check Digit (9th position) is correct', None, None, 'ErrorText', 'string', 'Decoding', 'Corrections', None)\n",
      "(None, 'Vehicle Descriptor', '1N4AL21E*9N', None, None, '', 196, '1N4AL21E*9N', None, None, 'VehicleDescriptor', 'string', 'Decoding', 'Corrections', None)\n",
      "('General', 'Make', 'NISSAN', 47271, 2679, 'AL2', 26, '478', None, None, 'Make', 'lookup', 'WMI, Pattern', 'pattern - model', None)\n",
      "('General', 'Manufacturer Name', 'NISSAN NORTH AMERICA, INC.', None, None, '1N4', 27, '997', None, 2126, 'Manufacturer', 'lookup', 'WMI', 'Manuf. Name', None)\n",
      "('General', 'Model', 'Altima', 47271, 2679, 'AL2', 28, '1904', datetime.datetime(2016, 9, 29, 13, 13, 18, 190000), 2126, 'Model', 'lookup', 'Pattern', 'Pattern', None)\n",
      "('General', 'Model Year', '2009', None, None, '***X*|Y', 29, '2009', None, None, 'ModelYear', 'int', 'WMI, Input', 'ModelYear', None)\n",
      "('General', 'Plant City', 'CANTON', 1836233, 2679, '*****|*N', 31, 'CANTON', datetime.datetime(2022, 8, 30, 10, 53, 36, 877000), 2126, 'PlantCity', 'string', 'Pattern', 'Pattern', None)\n",
      "('General', 'Vehicle Type', 'PASSENGER CAR', None, None, '1N4', 39, '2', datetime.datetime(2024, 11, 1, 18, 15, 28, 603000), 2126, 'VehicleType', 'lookup', 'WMI', 'VehType', None)\n",
      "('General', 'Plant Country', 'UNITED STATES (USA)', 47239, 2679, '*****|*N', 75, '6', datetime.datetime(2015, 5, 14, 12, 2, 26, 523000), 2126, 'PlantCountry', 'lookup', 'Pattern', 'Pattern', None)\n",
      "('General', 'Plant Company Name', 'Canton Plant', 47240, 2679, '*****|*N', 76, 'Canton Plant', datetime.datetime(2015, 5, 14, 12, 2, 26, 523000), 2126, 'PlantCompanyName', 'string', 'Pattern', 'Pattern', None)\n",
      "('General', 'Plant State', 'MISSISSIPPI', 1836234, 2679, '*****|*N', 77, 'MISSISSIPPI', datetime.datetime(2022, 8, 30, 10, 53, 36, 900000), 2126, 'PlantState', 'string', 'Pattern', 'Pattern', None)\n",
      "('Exterior / Body', 'Body Class', 'Sedan/Saloon', 47255, 2679, '***1', 5, '13', datetime.datetime(2015, 5, 14, 12, 2, 26, 523000), 2126, 'BodyClass', 'lookup', 'Pattern', 'Pattern', None)\n",
      "('Exterior / Body', 'Doors', '4', 47256, 2679, '***1', 14, '4', datetime.datetime(2015, 5, 14, 12, 2, 26, 523000), 2126, 'Doors', 'int', 'Pattern', 'Pattern', None)\n",
      "('Exterior / Dimension', 'Gross Vehicle Weight Rating From', 'Class 1: 6,000 lb or less (2,722 kg or less)', 15320, 4927, '', 25, '1', datetime.datetime(2023, 12, 7, 11, 24, 17, 723000), None, 'GVWR', 'lookup', 'Pattern', 'Vehicle Specs', None)\n",
      "('Exterior / Dimension', 'Gross Vehicle Weight Rating To', 'Class 1: 6,000 lb or less (2,722 kg or less)', 15320, 4927, '', 190, '1', datetime.datetime(2023, 12, 7, 11, 24, 17, 737000), None, 'GVWR_to', 'lookup', 'Pattern', 'Vehicle Specs', None)\n",
      "('Exterior / Truck', 'Bed Type', 'Not Applicable', None, None, None, 3, '0', datetime.datetime(2019, 12, 21, 20, 26, 30, 583000), None, 'BedType', 'lookup', 'Pattern', 'Default', None)\n",
      "('Exterior / Truck', 'Cab Type', 'Not Applicable', None, None, None, 4, '0', datetime.datetime(2019, 12, 21, 20, 26, 30, 583000), None, 'BodyCabType', 'lookup', 'Pattern', 'Default', None)\n",
      "('Exterior / Trailer', 'Trailer Type Connection', 'Not Applicable', None, None, None, 116, '0', datetime.datetime(2019, 12, 21, 20, 26, 30, 583000), None, 'TrailerType', 'lookup', 'Pattern', 'Default', None)\n",
      "('Exterior / Trailer', 'Trailer Body Type', 'Not Applicable', None, None, None, 117, '0', datetime.datetime(2019, 12, 21, 20, 26, 30, 583000), None, 'TrailerBodyType', 'lookup', 'Pattern', 'Default', None)\n",
      "('Mechanical / Drivetrain', 'Drive Type', '4x2', 47251, 2679, '****[ADE]', 15, '7', datetime.datetime(2015, 5, 14, 12, 2, 26, 523000), 2126, 'DriveType', 'lookup', 'Pattern', 'Pattern', None)\n",
      "('Engine', 'Engine Number of Cylinders', '4', 811803, 2679, 'AL2', 9, '4', datetime.datetime(2016, 9, 29, 13, 13, 18, 190000), 2126, 'EngineCylinders', 'int', 'Pattern', 'Pattern', None)\n",
      "('Engine', 'Displacement (CC)', '2500.0', 47269, 2679, 'AL2', 11, '2500.0', None, 2126, 'DisplacementCC', 'decimal', 'Pattern', 'Conversion 4: 2.5 * 1000', None)\n",
      "('Engine', 'Displacement (CI)', '152.55936023683', 47269, 2679, 'AL2', 12, '152.55936023683', None, 2126, 'DisplacementCI', 'decimal', 'Pattern', 'Conversion 7: 2.5 / 0.016387064 ', None)\n",
      "('Engine', 'Displacement (L)', '2.5', 47269, 2679, 'AL2', 13, '2.5', datetime.datetime(2016, 9, 29, 13, 13, 18, 190000), 2126, 'DisplacementL', 'decimal', 'Pattern', 'Pattern', None)\n",
      "('Engine', 'Engine Model', 'QR25DE', 811804, 2679, 'AL2', 18, 'QR25DE', datetime.datetime(2016, 9, 29, 13, 13, 18, 190000), 2126, 'EngineModel', 'string', 'Pattern', 'Pattern', None)\n",
      "('Engine', 'Fuel Type - Primary', 'Gasoline', 47270, 2679, 'AL2', 24, '4', datetime.datetime(2016, 9, 29, 13, 13, 18, 190000), 2126, 'FuelTypePrimary', 'lookup', 'Pattern', 'Pattern', None)\n",
      "('Engine', 'Valve Train Design', 'Dual Overhead Cam (DOHC)', 811804, 2679, 'AL2', 62, '2', datetime.datetime(2020, 7, 16, 12, 30, 32, 127000), 2126, 'ValveTrainDesign', 'lookup', 'Pattern', 'EngineModelPattern', None)\n",
      "('Engine', 'Engine Configuration', 'In-Line', 811804, 2679, 'AL2', 64, '1', datetime.datetime(2020, 7, 16, 12, 30, 32, 143000), 2126, 'EngineConfiguration', 'lookup', 'Pattern', 'EngineModelPattern', None)\n",
      "('Engine', 'Engine Brake (hp) From', '170', 811805, 2679, 'AL2', 71, '170', datetime.datetime(2016, 9, 29, 13, 13, 18, 190000), 2126, 'EngineHP', 'decimal', 'Pattern', 'Pattern', None)\n",
      "('Engine', 'Cooling Type', 'Water', 811804, 2679, 'AL2', 122, '2', datetime.datetime(2020, 7, 16, 12, 30, 32, 143000), 2126, 'CoolingType', 'lookup', 'Pattern', 'EngineModelPattern', None)\n",
      "('Engine', 'Engine Brake (hp) To', '175', 811806, 2679, 'AL2', 125, '175', datetime.datetime(2016, 9, 29, 13, 13, 18, 190000), 2126, 'EngineHP_to', 'decimal', 'Pattern', 'Pattern', None)\n",
      "('Engine', 'Engine Manufacturer', 'Nissan', 811804, 2679, 'AL2', 146, 'Nissan', datetime.datetime(2020, 7, 16, 12, 30, 32, 143000), 2126, 'EngineManufacturer', 'string', 'Pattern', 'EngineModelPattern', None)\n",
      "('Passive Safety System', 'Seat Belt Type', 'Manual', 47250, 2679, '****[ABDMEF]', 79, '1', datetime.datetime(2015, 5, 14, 12, 28, 41, 720000), 2126, 'SeatBeltsAll', 'lookup', 'Pattern', 'Pattern', None)\n",
      "('Passive Safety System / Air Bag Location', 'Curtain Air Bag Locations', '1st Row (Driver and Passenger)', 47253, 2679, '****[EF]', 55, '3', datetime.datetime(2015, 5, 14, 12, 2, 26, 523000), 2126, 'AirBagLocCurtain', 'lookup', 'Pattern', 'Pattern', None)\n",
      "('Passive Safety System / Air Bag Location', 'Front Air Bag Locations', '1st Row (Driver and Passenger)', 47249, 2679, '****[ABDMEF]', 65, '3', datetime.datetime(2015, 5, 14, 12, 28, 41, 720000), 2126, 'AirBagLocFront', 'lookup', 'Pattern', 'Pattern', None)\n",
      "('Passive Safety System / Air Bag Location', 'Side Air Bag Locations', '1st Row (Driver and Passenger)', 47254, 2679, '****[EF]', 107, '3', datetime.datetime(2015, 5, 14, 12, 2, 26, 523000), 2126, 'AirBagLocSide', 'lookup', 'Pattern', 'Pattern', None)\n",
      "('Active Safety System', 'Tire Pressure Monitoring System (TPMS) Type', 'Direct', 13976, 4441, '', 168, '1', datetime.datetime(2023, 3, 14, 13, 25, 43, 670000), None, 'TPMS', 'lookup', 'Pattern', 'Vehicle Specs', None)\n",
      "('Exterior / Bus', 'Bus Floor Configuration Type', 'Not Applicable', None, None, None, 148, '0', datetime.datetime(2019, 12, 21, 20, 26, 30, 583000), None, 'BusFloorConfigType', 'lookup', 'Pattern', 'Default', None)\n",
      "('Exterior / Bus', 'Bus Type', 'Not Applicable', None, None, None, 149, '0', datetime.datetime(2019, 12, 21, 20, 26, 30, 583000), None, 'BusType', 'lookup', 'Pattern', 'Default', None)\n",
      "('Exterior / Motorcycle', 'Custom Motorcycle Type', 'Not Applicable', None, None, None, 151, '0', datetime.datetime(2019, 12, 21, 20, 26, 30, 583000), None, 'CustomMotorcycleType', 'lookup', 'Pattern', 'Default', None)\n",
      "('Exterior / Motorcycle', 'Motorcycle Suspension Type', 'Not Applicable', None, None, None, 152, '0', datetime.datetime(2019, 12, 21, 20, 26, 30, 583000), None, 'MotorcycleSuspensionType', 'lookup', 'Pattern', 'Default', None)\n",
      "('Exterior / Motorcycle', 'Motorcycle Chassis Type', 'Not Applicable', None, None, None, 153, '0', datetime.datetime(2019, 12, 21, 20, 26, 30, 583000), None, 'MotorcycleChassisType', 'lookup', 'Pattern', 'Default', None)\n"
     ]
    }
   ],
   "source": [
    "vin = '1N4AL21EX9N445210'\n",
    "year = 2009\n",
    "\n",
    "cursor.execute(\"EXEC [dbo].[spVinDecode] @v = ?, @year = ?\", vin, year)\n",
    "\n",
    "result = cursor.fetchall()\n",
    "\n",
    "for row in result:\n",
    "    print(row)\n",
    "\n",
    "cursor.close()\n",
    "conn.close()"
   ]
  },
  {
   "cell_type": "code",
   "execution_count": null,
   "id": "11db5409-daf2-407b-8801-69a307f5ab39",
   "metadata": {},
   "outputs": [],
   "source": []
  },
  {
   "cell_type": "code",
   "execution_count": null,
   "id": "edcf35b5-8ca3-4539-a87b-119df54e4936",
   "metadata": {},
   "outputs": [],
   "source": []
  },
  {
   "cell_type": "code",
   "execution_count": null,
   "id": "e7ce6c4d-834a-44cd-8510-f9d8b11cc004",
   "metadata": {},
   "outputs": [],
   "source": []
  }
 ],
 "metadata": {
  "kernelspec": {
   "display_name": "Python 3 (ipykernel)",
   "language": "python",
   "name": "python3"
  },
  "language_info": {
   "codemirror_mode": {
    "name": "ipython",
    "version": 3
   },
   "file_extension": ".py",
   "mimetype": "text/x-python",
   "name": "python",
   "nbconvert_exporter": "python",
   "pygments_lexer": "ipython3",
   "version": "3.12.4"
  }
 },
 "nbformat": 4,
 "nbformat_minor": 5
}
